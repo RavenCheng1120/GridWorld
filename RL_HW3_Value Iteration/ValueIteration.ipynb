{
 "cells": [
  {
   "cell_type": "markdown",
   "metadata": {},
   "source": [
    "# Value Iteration & Policy Iteration\n",
    "> 1. v(s) and policy  for value iteration 演算法對應\n",
    "2. show animation\n",
    "2. option ==> do policy iteration"
   ]
  },
  {
   "cell_type": "markdown",
   "metadata": {},
   "source": [
    "# 1. Policy Iteration"
   ]
  },
  {
   "cell_type": "code",
   "execution_count": 15,
   "metadata": {},
   "outputs": [],
   "source": [
    "import grid_world\n",
    "from grid_world import *\n",
    "import numpy as np"
   ]
  },
  {
   "cell_type": "markdown",
   "metadata": {},
   "source": [
    "## 第一步：將grid設定成standard狀態，再將可走動的格子reward全設成-0.1    \n",
    "\n",
    "#### standard grid參數如下：    \n",
    "g = Grid(3, 4, (2, 0))     \n",
    "rewards = {(0, 3): 1, (1, 3): -1}    \n",
    "actions = {    \n",
    "    (0, 0): ('D', 'R'), (0, 1): ('L', 'R'), (0, 2): ('L', 'D', 'R'),     \n",
    "    (1, 0): ('U', 'D'), (1, 2): ('U', 'D', 'R'),    \n",
    "    (2, 0): ('U', 'R'), (2, 1): ('L', 'R'), (2, 2): ('L', 'R', 'U'), (2, 3): ('L', 'U'),    \n",
    "}"
   ]
  },
  {
   "cell_type": "code",
   "execution_count": 16,
   "metadata": {},
   "outputs": [
    {
     "name": "stdout",
     "output_type": "stream",
     "text": [
      "states:\n",
      "{(0, 0), (1, 3), (2, 1), (2, 3), (1, 0), (0, 3), (0, 1), (1, 2), (2, 0), (2, 2), (0, 2)}\n",
      "\n",
      "rewards:\n",
      "---------------------------\n",
      "-0.10|-0.10|-0.10| 1.00|\n",
      "---------------------------\n",
      "-0.10| 0.00|-0.10|-1.00|\n",
      "---------------------------\n",
      "-0.10|-0.10|-0.10|-0.10|\n"
     ]
    }
   ],
   "source": [
    "step_cost = -0.1\n",
    "grid = standard_grid()\n",
    "grid.rewards.update({\n",
    "    (0, 0): step_cost,\n",
    "    (0, 1): step_cost,\n",
    "    (0, 2): step_cost,\n",
    "    (1, 0): step_cost,\n",
    "    (1, 2): step_cost,\n",
    "    (2, 0): step_cost,\n",
    "    (2, 1): step_cost,\n",
    "    (2, 2): step_cost,\n",
    "    (2, 3): step_cost,\n",
    "})\n",
    "states = grid.all_states()\n",
    "print(\"states:\")\n",
    "print(states)\n",
    "\n",
    "print(\"\\nrewards:\")\n",
    "print_values(grid.rewards, grid)"
   ]
  },
  {
   "cell_type": "markdown",
   "metadata": {},
   "source": [
    "## 隨機選擇各格子要前進的方向"
   ]
  },
  {
   "cell_type": "code",
   "execution_count": 17,
   "metadata": {},
   "outputs": [
    {
     "name": "stdout",
     "output_type": "stream",
     "text": [
      "policy:\n",
      "---------------------------\n",
      "  U  |  U  |  R  |     |\n",
      "---------------------------\n",
      "  U  |     |  U  |     |\n",
      "---------------------------\n",
      "  U  |  D  |  R  |  R  |\n"
     ]
    }
   ],
   "source": [
    "ALL_POSSIBLE_ACTIONS = ('U', 'D', 'L', 'R')\n",
    "\n",
    "policy = {}\n",
    "for s in grid.actions.keys():\n",
    "    policy[s] = np.random.choice(ALL_POSSIBLE_ACTIONS)\n",
    "print(\"policy:\")\n",
    "print_policy(policy, grid)"
   ]
  },
  {
   "cell_type": "markdown",
   "metadata": {},
   "source": [
    "## 第二步：初始化與Main function，Policy Evaluation + Policy Improvement"
   ]
  },
  {
   "cell_type": "code",
   "execution_count": 18,
   "metadata": {},
   "outputs": [
    {
     "name": "stdout",
     "output_type": "stream",
     "text": [
      "Final values:\n",
      "---------------------------\n",
      " 0.62| 0.80| 1.00| 0.00|\n",
      "---------------------------\n",
      " 0.46| 0.00| 0.80| 0.00|\n",
      "---------------------------\n",
      " 0.31| 0.46| 0.62| 0.46|\n",
      "\n",
      "Final policy:\n",
      "---------------------------\n",
      "  R  |  R  |  R  |     |\n",
      "---------------------------\n",
      "  U  |     |  U  |     |\n",
      "---------------------------\n",
      "  U  |  R  |  U  |  L  |\n"
     ]
    }
   ],
   "source": [
    "#initialize V, gamma, policy, grid\n",
    "v = {}\n",
    "gamma = 0.9\n",
    "small_enough = 1e-3\n",
    "for s in states:\n",
    "    v[s] = 0\n",
    "    \n",
    "#前段跑Policy Evaluation，後段跑Policy Improvement\n",
    "while True:\n",
    "    while True:\n",
    "        biggest_change = 0.0\n",
    "        for s in states:                     #s會得到(0, 1)、(1, 2)...等11種state\n",
    "            old_v = v[s]\n",
    "            if s in policy:\n",
    "                a = policy[s]                #a會得到L,R,D或U\n",
    "                grid.set_state(s)            #i,j會變成s所在的格子\n",
    "                r = grid.move(a)             #i,j的數字會隨前進方向改變，r會收到回傳的reward值\n",
    "                v[s] = r + gamma * v[grid.current_state()]\n",
    "            biggest_change = max(biggest_change, np.abs(old_v - v[s]))\n",
    "        if biggest_change < small_enough:\n",
    "            break \n",
    "\n",
    "    is_policy_converged = True\n",
    "    for s in states:\n",
    "        if s in policy:\n",
    "            old_a = policy[s]\n",
    "            new_a = None\n",
    "            best_value = float('-inf')\n",
    "            # loop through all possible actions to find the best current action\n",
    "            for a in ALL_POSSIBLE_ACTIONS:   #a will loop through L, R, D, and U\n",
    "                grid.set_state(s)\n",
    "                r = grid.move(a)\n",
    "                V = r + gamma * v[grid.current_state()]\n",
    "                if V > best_value:\n",
    "                    best_value = V\n",
    "                    new_a = a\n",
    "            policy[s] = new_a\n",
    "            if new_a != old_a:\n",
    "                is_policy_converged = False\n",
    "\n",
    "    if is_policy_converged:\n",
    "        break\n",
    "        \n",
    "print(\"Final values:\")\n",
    "print_values(v, grid)\n",
    "print(\"\\nFinal policy:\")\n",
    "print_policy(policy, grid)"
   ]
  },
  {
   "cell_type": "markdown",
   "metadata": {},
   "source": [
    "## 演算法與flow chart    \n",
    "#### 先隨機決定初始policy，在完成一次policy evaluation後，根據現有的V[s]來找到更加的policy(移動方向)，然後再去做policy evaluation與計算更加的移動policy，不斷循環直到無法找到更佳的policy。\n",
    "![title](image01.png)\n",
    "![title](PolicyIteration.jpg)"
   ]
  },
  {
   "cell_type": "code",
   "execution_count": null,
   "metadata": {},
   "outputs": [],
   "source": []
  },
  {
   "cell_type": "code",
   "execution_count": null,
   "metadata": {},
   "outputs": [],
   "source": []
  },
  {
   "cell_type": "markdown",
   "metadata": {},
   "source": [
    "# 2. Value Iteration\n",
    "## 第一步：將grid設定成standard狀態，再將可走動的格子reward全設成-0.1。    \n",
    "## 並隨機選擇各格子要前進的方向(policy)"
   ]
  },
  {
   "cell_type": "code",
   "execution_count": 19,
   "metadata": {},
   "outputs": [
    {
     "name": "stdout",
     "output_type": "stream",
     "text": [
      "states:\n",
      "{(0, 0), (1, 3), (2, 1), (2, 3), (1, 0), (0, 3), (0, 1), (1, 2), (2, 0), (2, 2), (0, 2)}\n",
      "\n",
      "rewards:\n",
      "---------------------------\n",
      "-0.10|-0.10|-0.10| 1.00|\n",
      "---------------------------\n",
      "-0.10| 0.00|-0.10|-1.00|\n",
      "---------------------------\n",
      "-0.10|-0.10|-0.10|-0.10|\n"
     ]
    }
   ],
   "source": [
    "grid = negative_grid()\n",
    "states = grid.all_states()\n",
    "print(\"states:\")\n",
    "print(states)\n",
    "\n",
    "print(\"\\nrewards:\")\n",
    "print_values(grid.rewards, grid)"
   ]
  },
  {
   "cell_type": "code",
   "execution_count": 20,
   "metadata": {},
   "outputs": [
    {
     "name": "stdout",
     "output_type": "stream",
     "text": [
      "policy:\n",
      "---------------------------\n",
      "  R  |  U  |  D  |     |\n",
      "---------------------------\n",
      "  D  |     |  L  |     |\n",
      "---------------------------\n",
      "  L  |  U  |  R  |  L  |\n"
     ]
    }
   ],
   "source": [
    "ALL_POSSIBLE_ACTIONS = ('U', 'D', 'L', 'R')\n",
    "\n",
    "policy = {}\n",
    "for s in grid.actions.keys():\n",
    "    policy[s] = np.random.choice(ALL_POSSIBLE_ACTIONS)\n",
    "print(\"policy:\")\n",
    "print_policy(policy, grid)"
   ]
  },
  {
   "cell_type": "code",
   "execution_count": 24,
   "metadata": {},
   "outputs": [
    {
     "name": "stdout",
     "output_type": "stream",
     "text": [
      "values:\n",
      "---------------------------\n",
      " 0.62| 0.80| 1.00| 0.00|\n",
      "---------------------------\n",
      " 0.46| 0.00| 0.80| 0.00|\n",
      "---------------------------\n",
      " 0.31| 0.46| 0.62| 0.46|\n",
      "\n",
      "policy:\n",
      "---------------------------\n",
      "  R  |  R  |  R  |     |\n",
      "---------------------------\n",
      "  U  |     |  U  |     |\n",
      "---------------------------\n",
      "  U  |  R  |  U  |  L  |\n"
     ]
    }
   ],
   "source": [
    "#initialize V, gamma, policy, grid\n",
    "v = {}\n",
    "gamma = 0.9\n",
    "small_enough = 1e-3\n",
    "for s in states:\n",
    "    v[s] = 0\n",
    "    \n",
    "while True:\n",
    "    biggest_change = 0\n",
    "    for s in states:\n",
    "        old_v = v[s]\n",
    "        if s in policy:\n",
    "            best_v = float('-inf')\n",
    "            for a in ALL_POSSIBLE_ACTIONS:\n",
    "                grid.set_state(s)\n",
    "                r = grid.move(a)\n",
    "                V = r + gamma * v[grid.current_state()]\n",
    "                if V > best_v:\n",
    "                    best_v = V\n",
    "            v[s] = best_v\n",
    "        biggest_change = max(biggest_change, np.abs(old_v-v[s]))\n",
    "        \n",
    "    if biggest_change < small_enough:\n",
    "        break\n",
    "        \n",
    "        \n",
    "for s in policy.keys():\n",
    "    best_a = None\n",
    "    best_value = float('-inf')\n",
    "    # loop through all possible actions to find the best current action\n",
    "    for a in ALL_POSSIBLE_ACTIONS:\n",
    "        grid.set_state(s)\n",
    "        r = grid.move(a)\n",
    "        V = r + gamma * v[grid.current_state()]\n",
    "        if V > best_value:\n",
    "            best_value = V\n",
    "            best_a = a\n",
    "    policy[s] = best_a\n",
    "\n",
    "# our goal here is to verify that we get the same answer as with policy iteration\n",
    "print(\"values:\")\n",
    "print_values(v, grid)\n",
    "print(\"\\npolicy:\")\n",
    "print_policy(policy, grid)"
   ]
  },
  {
   "cell_type": "markdown",
   "metadata": {},
   "source": [
    "## 演算法與flow chart\n",
    "![title](image02.png)\n",
    "![title](ValueIteration.jpg)"
   ]
  },
  {
   "cell_type": "code",
   "execution_count": null,
   "metadata": {},
   "outputs": [],
   "source": []
  }
 ],
 "metadata": {
  "kernelspec": {
   "display_name": "Python 3",
   "language": "python",
   "name": "python3"
  },
  "language_info": {
   "codemirror_mode": {
    "name": "ipython",
    "version": 3
   },
   "file_extension": ".py",
   "mimetype": "text/x-python",
   "name": "python",
   "nbconvert_exporter": "python",
   "pygments_lexer": "ipython3",
   "version": "3.7.3"
  }
 },
 "nbformat": 4,
 "nbformat_minor": 4
}
