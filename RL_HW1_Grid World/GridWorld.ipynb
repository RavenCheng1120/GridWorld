{
 "cells": [
  {
   "cell_type": "markdown",
   "metadata": {
    "colab_type": "text",
    "id": "DzjYPEgIoZCY"
   },
   "source": [
    "# Policy Evaluation(To find V(s) for every s)\n",
    "# (1)Fixed policy for GridWorld-> v(s)=r+γv(s')"
   ]
  },
  {
   "cell_type": "markdown",
   "metadata": {
    "colab_type": "text",
    "id": "WqaYAafyoZCZ"
   },
   "source": [
    "## -Step 1: include grid_world \n",
    ">Grid Class含有的變數如下    \n",
    "width、height：設定grid world長寬    \n",
    "i、j：目前所在的位置，起始為start[0]和start[1]    \n",
    "rewards、actions：dictionary型態，設定Grid world的格子狀態   "
   ]
  },
  {
   "cell_type": "code",
   "execution_count": 2,
   "metadata": {
    "colab": {},
    "colab_type": "code",
    "id": "bLKv0ElWoZCa"
   },
   "outputs": [],
   "source": [
    "import grid_world\n",
    "from grid_world import *"
   ]
  },
  {
   "cell_type": "code",
   "execution_count": 3,
   "metadata": {
    "colab": {},
    "colab_type": "code",
    "id": "s3AxFgGZoZCc",
    "outputId": "b0651ba6-e445-4bc8-8aed-cc0b6eef4a33"
   },
   "outputs": [
    {
     "name": "stdout",
     "output_type": "stream",
     "text": [
      "Rewards= {(0, 3): 1, (1, 3): -1}\n",
      "Actions= {(0, 0): ('D', 'R'), (0, 1): ('L', 'R'), (0, 2): ('L', 'D', 'R'), (1, 0): ('U', 'D'), (1, 2): ('U', 'D', 'R'), (2, 0): ('U', 'R'), (2, 1): ('L', 'R'), (2, 2): ('L', 'R', 'U'), (2, 3): ('L', 'U')}\n"
     ]
    }
   ],
   "source": [
    "# \"uniform random policy\"使用的topology\n",
    "grid = Grid(3, 4, (2, 0))            #設定width, height, start位置\n",
    "rewards = {(0, 3): 1, (1, 3): -1}    #設定reward位置\n",
    "actions = {                          #每個格子可以移動的方向\n",
    "    (0, 0): ('D', 'R'),\n",
    "    (0, 1): ('L', 'R'),\n",
    "    (0, 2): ('L', 'D', 'R'),\n",
    "    (1, 0): ('U', 'D'),\n",
    "    (1, 2): ('U', 'D', 'R'),\n",
    "    (2, 0): ('U', 'R'),\n",
    "    (2, 1): ('L', 'R'),\n",
    "    (2, 2): ('L', 'R', 'U'),\n",
    "    (2, 3): ('L', 'U'),  }\n",
    "\n",
    "grid.set(rewards, actions)\n",
    "print('Rewards=',grid.rewards)\n",
    "print('Actions=',grid.actions)"
   ]
  },
  {
   "cell_type": "code",
   "execution_count": 4,
   "metadata": {
    "colab": {},
    "colab_type": "code",
    "id": "qZ8w4E7ToZCf",
    "outputId": "176355e7-7b59-4a08-b3ec-32d76275e1cd"
   },
   "outputs": [
    {
     "name": "stdout",
     "output_type": "stream",
     "text": [
      "---------------------------\n",
      "  D  |  R  |  D  |     |\n",
      "---------------------------\n",
      "  D  |     |  U  |     |\n",
      "---------------------------\n",
      "  R  |  L  |  L  |  U  |\n"
     ]
    }
   ],
   "source": [
    "# 隨機製造fixed policy\n",
    "list_random_action(grid)"
   ]
  },
  {
   "cell_type": "markdown",
   "metadata": {},
   "source": [
    "### 製造出3x4的Grid World，有固定的移動方向    "
   ]
  },
  {
   "cell_type": "code",
   "execution_count": 5,
   "metadata": {
    "colab": {},
    "colab_type": "code",
    "id": "umAVqzLhoZCh",
    "outputId": "0208e451-6393-463b-ae5a-e0253ff84dbd"
   },
   "outputs": [
    {
     "name": "stdout",
     "output_type": "stream",
     "text": [
      "Rewards= {(0, 3): 1, (1, 3): -1}\n",
      "Actions= {(0, 0): 'R', (0, 1): 'R', (0, 2): 'R', (1, 0): 'U', (1, 2): 'R', (2, 0): 'U', (2, 1): 'R', (2, 2): 'U', (2, 3): 'U'}\n",
      "{(0, 1), (1, 2), (0, 0), (1, 3), (2, 1), (2, 0), (2, 3), (2, 2), (1, 0), (0, 2), (0, 3)}\n",
      "---------------------------\n",
      "  R  |  R  |  R  |     |\n",
      "---------------------------\n",
      "  U  |     |  R  |     |\n",
      "---------------------------\n",
      "  U  |  R  |  U  |  U  |\n"
     ]
    }
   ],
   "source": [
    "# the grid looks like this\n",
    "# x means you can't go there\n",
    "# s means start position\n",
    "# number means reward at that state\n",
    "# .  .  .  1\n",
    "# .  x  . -1\n",
    "# s  .  .  .\n",
    "grid = Grid(3, 4, (2, 0))            #設定width, height, start位置\n",
    "rewards = {(0, 3): 1, (1, 3): -1}    #設定reward位置\n",
    "actions = {                          #每個格子可以移動的方向\n",
    "    (0, 0): ('R'),\n",
    "    (0, 1): ('R'),\n",
    "    (0, 2): ('R'),\n",
    "    (1, 0): ('U'),\n",
    "    (1, 2): ('R'),\n",
    "    (2, 0): ('U'),\n",
    "    (2, 1): ('R'),\n",
    "    (2, 2): ('U'),\n",
    "    (2, 3): ('U'),  }\n",
    "\n",
    "grid.set(rewards, actions)           #把rewards和actions存入grid中\n",
    "states = grid.all_states()\n",
    "\n",
    "print('Rewards=',grid.rewards)\n",
    "print('Actions=',grid.actions)\n",
    "print(states)\n",
    "\n",
    "for i in range(grid.width):\n",
    "    print(\"---------------------------\")\n",
    "    for j in range(grid.height):\n",
    "        a = grid.actions.get((i,j), ' ')\n",
    "        print(\"  %s  |\" %a, end=\"\")\n",
    "    print(\"\")"
   ]
  },
  {
   "cell_type": "markdown",
   "metadata": {
    "colab_type": "text",
    "id": "cPAy3eJQoZCj"
   },
   "source": [
    "## -Step 2: initialization"
   ]
  },
  {
   "cell_type": "code",
   "execution_count": 6,
   "metadata": {
    "colab": {},
    "colab_type": "code",
    "id": "yvTG_yWooZCk"
   },
   "outputs": [],
   "source": [
    "#initialize V, gamma, policy, grid\n",
    "v = {}    #list\n",
    "gamma = 0.8\n",
    "small_enough = 1e-3\n",
    "for s in states:\n",
    "    v[s] = 0"
   ]
  },
  {
   "cell_type": "markdown",
   "metadata": {
    "colab_type": "text",
    "id": "Bmi0Prv3oZCm"
   },
   "source": [
    "## -Step 3: Main function"
   ]
  },
  {
   "cell_type": "code",
   "execution_count": 7,
   "metadata": {
    "colab": {},
    "colab_type": "code",
    "id": "SmnncnJJoZCm",
    "outputId": "5e04bd06-7a26-484a-f046-11d8526cd0a4"
   },
   "outputs": [
    {
     "name": "stdout",
     "output_type": "stream",
     "text": [
      "{(0, 1): 0.8, (1, 2): -1.0, (0, 0): 0.64, (1, 3): 0, (2, 1): -0.64, (2, 0): 0.4096, (2, 3): -1.0, (2, 2): -0.8, (1, 0): 0.512, (0, 2): 1.0, (0, 3): 0}\n",
      "\n",
      "Grid World V[s]如下(gamma值為0.8)：\n",
      "---------------------------\n",
      " 0.64| 0.80| 1.00| 0.00|\n",
      "---------------------------\n",
      " 0.51| 0.00|-1.00| 0.00|\n",
      "---------------------------\n",
      " 0.41|-0.64|-0.80|-1.00|\n"
     ]
    }
   ],
   "source": [
    "import numpy as np\n",
    "while True:\n",
    "    biggest_change = 0.0\n",
    "    for s in states:                     #s會得到(0, 1)、(1, 2)...等11種state\n",
    "        old_v = v[s]\n",
    "        new_v = 0\n",
    "        if s in grid.actions.keys():\n",
    "            #for a in grid.actions[s]:   #uniform random\n",
    "            a = grid.actions[s]          #a會得到R或U\n",
    "            grid.set_state(s)            #i,j會變成s所在的格子\n",
    "            r = grid.move(a)             #i,j的數字會隨前進方向改變，r會收到回傳的reward值\n",
    "            new_v = r + gamma * v[grid.current_state()]\n",
    "        v[s] = round(new_v,5)\n",
    "        biggest_change = max(biggest_change, np.abs(old_v - new_v))\n",
    "    if biggest_change < small_enough:\n",
    "        break\n",
    "\n",
    "print(v)\n",
    "print(\"\\nGrid World V[s]如下(gamma值為0.8)：\")\n",
    "print_values(v, grid)"
   ]
  },
  {
   "cell_type": "code",
   "execution_count": null,
   "metadata": {},
   "outputs": [],
   "source": []
  },
  {
   "cell_type": "code",
   "execution_count": null,
   "metadata": {},
   "outputs": [],
   "source": []
  },
  {
   "cell_type": "markdown",
   "metadata": {},
   "source": [
    "# (2)uniformly random policy for GridWorld-> v(s)=Σπ(a|s){r+γv(s')}\n",
    "## -Step 1:Set Grid world "
   ]
  },
  {
   "cell_type": "code",
   "execution_count": 8,
   "metadata": {},
   "outputs": [
    {
     "name": "stdout",
     "output_type": "stream",
     "text": [
      "Rewards= {(0, 3): 1, (1, 3): -1}\n",
      "Actions= {(0, 0): ('D', 'R'), (0, 1): ('L', 'R'), (0, 2): ('L', 'D', 'R'), (1, 0): ('U', 'D'), (1, 2): ('U', 'D', 'R'), (2, 0): ('U', 'R'), (2, 1): ('L', 'R'), (2, 2): ('L', 'R', 'U'), (2, 3): ('L', 'U')}\n",
      "{(0, 1), (1, 2), (0, 0), (1, 3), (2, 1), (2, 0), (2, 3), (2, 2), (1, 0), (0, 2), (0, 3)}\n",
      "---------------------------\n",
      " D,R | L,R |L,D,R|     |\n",
      "---------------------------\n",
      " U,D |     |U,D,R|     |\n",
      "---------------------------\n",
      " U,R | L,R |L,R,U| L,U |\n"
     ]
    }
   ],
   "source": [
    "grid = Grid(3, 4, (2, 0))            #設定width, height, start位置\n",
    "rewards = {(0, 3): 1, (1, 3): -1}    #設定reward位置\n",
    "actions = {                          #每個格子可以移動的方向\n",
    "    (0, 0): ('D', 'R'),\n",
    "    (0, 1): ('L', 'R'),\n",
    "    (0, 2): ('L', 'D', 'R'),\n",
    "    (1, 0): ('U', 'D'),\n",
    "    (1, 2): ('U', 'D', 'R'),\n",
    "    (2, 0): ('U', 'R'),\n",
    "    (2, 1): ('L', 'R'),\n",
    "    (2, 2): ('L', 'R', 'U'),\n",
    "    (2, 3): ('L', 'U'),  }\n",
    "prob = {                          #走向可移動方向的機率\n",
    "    (0, 0): 1/2,\n",
    "    (0, 1): 1/2,\n",
    "    (0, 2): 1/3,\n",
    "    (1, 0): 1/2,\n",
    "    (1, 2): 1/3,\n",
    "    (2, 0): 1/2,\n",
    "    (2, 1): 1/2,\n",
    "    (2, 2): 1/3,\n",
    "    (2, 3): 1/2,  }\n",
    "\n",
    "grid.set(rewards, actions)\n",
    "states = grid.all_states()\n",
    "\n",
    "print('Rewards=',grid.rewards)\n",
    "print('Actions=',grid.actions)\n",
    "print(states)\n",
    "\n",
    "for i in range(grid.width):\n",
    "    print(\"---------------------------\")\n",
    "    for j in range(grid.height):\n",
    "        a = grid.actions.get((i,j), ' ')\n",
    "        if len(a) == 1:\n",
    "            print(\"  %s  |\" %a[0], end=\"\")\n",
    "        elif len(a) == 2:\n",
    "            print(\" %s,%s |\" %(a[0],a[1]), end=\"\")\n",
    "        elif len(a) == 3:\n",
    "            print(\"%s,%s,%s|\" %(a[0],a[1],a[2]), end=\"\")\n",
    "    print(\"\")"
   ]
  },
  {
   "cell_type": "markdown",
   "metadata": {},
   "source": [
    "## -Step 2:Calculate V[s] "
   ]
  },
  {
   "cell_type": "code",
   "execution_count": 9,
   "metadata": {},
   "outputs": [
    {
     "name": "stdout",
     "output_type": "stream",
     "text": [
      "{(0, 1): 0.14579, (1, 2): -0.36542, (0, 0): 0.05535, (1, 3): 0, (2, 1): -0.2167, (2, 0): -0.10777, (2, 3): -0.66863, (2, 2): -0.37522, (1, 0): -0.02359, (0, 2): 0.26744, (0, 3): 0}\n",
      "\n",
      "Grid World V[s]如下(gamma值為0.9)：\n",
      "---------------------------\n",
      " 0.06| 0.15| 0.27| 0.00|\n",
      "---------------------------\n",
      "-0.02| 0.00|-0.37| 0.00|\n",
      "---------------------------\n",
      "-0.11|-0.22|-0.38|-0.67|\n"
     ]
    }
   ],
   "source": [
    "#initialize V, gamma, policy, grid\n",
    "v = {}\n",
    "gamma = 0.9\n",
    "small_enough = 1e-3\n",
    "for s in states:\n",
    "    v[s] = 0\n",
    "\n",
    "while True:\n",
    "    biggest_change = 0.0\n",
    "    for s in states:                     #s會得到(0, 1)、(1, 2)...等11種state\n",
    "        old_v = v[s]\n",
    "        new_v = 0\n",
    "        if s in grid.actions.keys():\n",
    "            for a in grid.actions[s]:   #uniform random\n",
    "                grid.set_state(s)            #i,j會變成s所在的格子\n",
    "                r = grid.move(a)             #i,j的數字會隨前進方向改變，r會收到回傳的reward值\n",
    "                #new_v += (r + gamma * v[grid.current_state()]) * prob[s]\n",
    "                new_v += (r + gamma * v[grid.current_state()]) / len(grid.actions[s])\n",
    "        v[s] = round(new_v,5)\n",
    "        biggest_change = max(biggest_change, np.abs(old_v - new_v))\n",
    "    if biggest_change < small_enough:\n",
    "        break\n",
    "\n",
    "print(v)\n",
    "print(\"\\nGrid World V[s]如下(gamma值為0.9)：\")\n",
    "print_values(v, grid)"
   ]
  },
  {
   "cell_type": "code",
   "execution_count": null,
   "metadata": {},
   "outputs": [],
   "source": []
  },
  {
   "cell_type": "code",
   "execution_count": null,
   "metadata": {},
   "outputs": [],
   "source": []
  },
  {
   "cell_type": "markdown",
   "metadata": {},
   "source": [
    "# (3)change topology fixed or random 5x6\n",
    "## 1. Fixed policy"
   ]
  },
  {
   "cell_type": "code",
   "execution_count": 10,
   "metadata": {},
   "outputs": [
    {
     "name": "stdout",
     "output_type": "stream",
     "text": [
      "Rewards= {(3, 4): 1, (2, 5): -1}\n",
      "Actions= {(0, 0): 'D', (0, 1): 'R', (0, 2): 'R', (0, 3): 'D', (0, 4): 'R', (0, 5): 'D', (1, 0): 'D', (1, 2): 'R', (1, 3): 'R', (1, 4): 'D', (1, 5): 'D', (2, 0): 'R', (2, 1): 'R', (2, 2): 'U', (2, 3): 'U', (2, 4): 'D', (3, 0): 'D', (3, 1): 'L', (3, 2): 'U', (3, 5): 'U', (4, 0): 'R', (4, 1): 'R', (4, 2): 'R', (4, 3): 'R', (4, 4): 'R', (4, 5): 'U'}\n",
      "{(3, 2), (1, 3), (0, 0), (3, 0), (4, 5), (2, 1), (1, 4), (0, 5), (2, 3), (4, 2), (0, 3), (1, 0), (2, 5), (2, 4), (4, 0), (1, 2), (3, 5), (0, 1), (4, 4), (3, 1), (1, 5), (2, 0), (0, 4), (4, 3), (2, 2), (3, 4), (4, 1), (0, 2)}\n",
      "------------------------------------\n",
      "  D  |  R  |  R  |  D  |  R  |  D  |\n",
      "------------------------------------\n",
      "  D  |     |  R  |  R  |  D  |  D  |\n",
      "------------------------------------\n",
      "  R  |  R  |  U  |  U  |  D  |     |\n",
      "------------------------------------\n",
      "  D  |  L  |  U  |     |     |  U  |\n",
      "------------------------------------\n",
      "  R  |  R  |  R  |  R  |  R  |  U  |\n"
     ]
    }
   ],
   "source": [
    "grid = Grid(5, 6, (0, 0))            #設定width, height, start位置\n",
    "rewards = {(3, 4): 1, (2, 5): -1}    #設定reward位置\n",
    "actions = {                          #每個格子可以移動的方向\n",
    "    (0, 0): ('D'), (0, 1): ('R'), (0, 2): ('R'), (0, 3): ('D'), (0, 4): ('R'), (0, 5): ('D'),\n",
    "    (1, 0): ('D')               , (1, 2): ('R'), (1, 3): ('R'), (1, 4): ('D'), (1, 5): ('D'),\n",
    "    (2, 0): ('R'), (2, 1): ('R'), (2, 2): ('U'), (2, 3): ('U'), (2, 4): ('D'),\n",
    "    (3, 0): ('D'), (3, 1): ('L'), (3, 2): ('U'),                               (3, 5): ('U'),\n",
    "    (4, 0): ('R'), (4, 1): ('R'), (4, 2): ('R'), (4, 3): ('R'), (4, 4): ('R'), (4, 5): ('U'),\n",
    "}\n",
    "\n",
    "grid.set(rewards, actions)           #把rewards和actions存入grid中\n",
    "states = grid.all_states()\n",
    "\n",
    "print('Rewards=',grid.rewards)\n",
    "print('Actions=',grid.actions)\n",
    "print(states)\n",
    "\n",
    "for i in range(grid.width):\n",
    "    print(\"------------------------------------\")\n",
    "    for j in range(grid.height):\n",
    "        a = grid.actions.get((i,j), ' ')\n",
    "        print(\"  %s  |\" %a, end=\"\")\n",
    "    print(\"\")"
   ]
  },
  {
   "cell_type": "code",
   "execution_count": 11,
   "metadata": {},
   "outputs": [
    {
     "name": "stdout",
     "output_type": "stream",
     "text": [
      "{(3, 2): 0.32768, (1, 3): 0.64, (0, 0): 0.16777, (3, 0): -0.20971, (4, 5): -0.8, (2, 1): 0.32768, (1, 4): 0.8, (0, 5): -0.8, (2, 3): 0.512, (4, 2): -0.4096, (0, 3): 0.512, (1, 0): 0.20971, (2, 5): 0, (2, 4): 1.0, (4, 0): -0.26214, (1, 2): 0.512, (3, 5): -1.0, (0, 1): 0.32768, (4, 4): -0.64, (3, 1): -0.16777, (1, 5): -1.0, (2, 0): 0.26214, (0, 4): -0.64, (4, 3): -0.512, (2, 2): 0.4096, (3, 4): 0, (4, 1): -0.32768, (0, 2): 0.4096}\n",
      "\n",
      "Grid World V[s]如下(gamma值為0.8)：\n",
      "---------------------------\n",
      " 0.17| 0.33| 0.41| 0.51|-0.64|-0.80|\n",
      "---------------------------\n",
      " 0.21| 0.00| 0.51| 0.64| 0.80|-1.00|\n",
      "---------------------------\n",
      " 0.26| 0.33| 0.41| 0.51| 1.00| 0.00|\n",
      "---------------------------\n",
      "-0.21|-0.17| 0.33| 0.00| 0.00|-1.00|\n",
      "---------------------------\n",
      "-0.26|-0.33|-0.41|-0.51|-0.64|-0.80|\n"
     ]
    }
   ],
   "source": [
    "#initialize V, gamma, policy, grid\n",
    "v = {}\n",
    "gamma = 0.8\n",
    "small_enough = 1e-3\n",
    "for s in states:\n",
    "    v[s] = 0\n",
    "    \n",
    "while True:\n",
    "    biggest_change = 0.0\n",
    "    for s in states:                     #s會得到(0, 1)、(1, 2)...等11種state\n",
    "        old_v = v[s]\n",
    "        new_v = 0\n",
    "        if s in grid.actions.keys():\n",
    "            #for a in grid.actions[s]:   #uniform random\n",
    "            a = grid.actions[s]          #a會得到R或U\n",
    "            grid.set_state(s)            #i,j會變成s所在的格子\n",
    "            r = grid.move(a)             #i,j的數字會隨前進方向改變，r會收到回傳的reward值\n",
    "            new_v = r + gamma * v[grid.current_state()]\n",
    "        v[s] = round(new_v,5)\n",
    "        biggest_change = max(biggest_change, np.abs(old_v - new_v))\n",
    "    if biggest_change < small_enough:\n",
    "        break\n",
    "\n",
    "print(v)\n",
    "print(\"\\nGrid World V[s]如下(gamma值為0.8)：\")\n",
    "print_values(v, grid)"
   ]
  },
  {
   "cell_type": "markdown",
   "metadata": {},
   "source": [
    "## 2. Random policy"
   ]
  },
  {
   "cell_type": "code",
   "execution_count": 12,
   "metadata": {},
   "outputs": [
    {
     "name": "stdout",
     "output_type": "stream",
     "text": [
      "Rewards= {(3, 4): 1, (2, 5): -1}\n",
      "{(3, 2), (1, 3), (0, 0), (3, 0), (4, 5), (2, 1), (1, 4), (0, 5), (2, 3), (4, 2), (0, 3), (1, 0), (2, 5), (2, 4), (4, 0), (1, 2), (3, 5), (0, 1), (4, 4), (3, 1), (1, 5), (2, 0), (0, 4), (4, 3), (2, 2), (3, 4), (4, 1), (0, 2)}\n",
      "------------------------------------------------\n",
      "  D,R  |  R,L  | D,R,L | D,R,L | D,R,L |  D,L  |\n",
      "------------------------------------------------\n",
      "  D,U  |       | D,R,U |D,R,L,U|D,R,L,U| D,L,U |\n",
      "------------------------------------------------\n",
      " D,R,U | D,R,L |D,R,L,U| R,L,U |D,R,L,U|       |\n",
      "------------------------------------------------\n",
      " D,R,U |D,R,L,U| D,L,U |       |       | D,L,U |\n",
      "------------------------------------------------\n",
      "  R,U  | R,L,U | R,L,U |  R,L  | R,L,U |  L,U  |\n"
     ]
    }
   ],
   "source": [
    "grid = Grid(5, 6, (0, 0))            #設定width, height, start位置\n",
    "rewards = {(3, 4): 1, (2, 5): -1}    #設定reward位置\n",
    "actions = {                          #每個格子可以移動的方向，(1,1)\n",
    "    (0, 0): ('D','R'),(0, 1): ('R','L'),(0, 2): ('D','R','L'), (0, 3): ('D','R','L'), (0, 4): ('D','R','L'), (0, 5): ('D','L'),\n",
    "    (1, 0): ('D','U'), (1, 2): ('D','R','U'), (1, 3): ('D','R','L','U'), (1, 4): ('D','R','L','U'), (1, 5): ('D','L','U'),\n",
    "    (2, 0): ('D','R','U'),(2, 1): ('D','R','L'),(2, 2): ('D','R','L','U'), (2, 3): ('R','L','U'),(2, 4): ('D','R','L','U'),\n",
    "    (3, 0): ('D','R','U'),(3, 1): ('D','R','L', 'U'),(3, 2): ('D','L','U'),(3, 5): ('D','L','U'),\n",
    "    (4, 0): ('R','U'), (4, 1): ('R','L','U'),(4, 2): ('R','L','U'), (4, 3): ('R','L'),(4, 4): ('R','L','U'),(4, 5): ('L','U'),\n",
    "}\n",
    "\n",
    "grid.set(rewards, actions)           #把rewards和actions存入grid中\n",
    "states = grid.all_states()\n",
    "\n",
    "print('Rewards=',grid.rewards)\n",
    "#print('Actions=',grid.actions)\n",
    "print(states)\n",
    "\n",
    "for i in range(grid.width):\n",
    "    print(\"------------------------------------------------\")\n",
    "    for j in range(grid.height):\n",
    "        a = grid.actions.get((i,j), ' ')\n",
    "        if len(a) == 1:\n",
    "            print(\"   %s   |\" %a[0], end=\"\")\n",
    "        elif len(a) == 2:\n",
    "            print(\"  %s,%s  |\" %(a[0],a[1]), end=\"\")\n",
    "        elif len(a) == 3:\n",
    "            print(\" %s,%s,%s |\" %(a[0],a[1],a[2]), end=\"\")\n",
    "        elif len(a) == 4:\n",
    "            print(\"%s,%s,%s,%s|\" %(a[0],a[1],a[2],a[3]), end=\"\")\n",
    "    print(\"\")"
   ]
  },
  {
   "cell_type": "code",
   "execution_count": 13,
   "metadata": {},
   "outputs": [
    {
     "name": "stdout",
     "output_type": "stream",
     "text": [
      "{(3, 2): 0.07434, (1, 3): -0.18667, (0, 0): -0.06428, (3, 0): 0.05633, (4, 5): 0.34616, (2, 1): 0.01619, (1, 4): -0.29878, (0, 5): -0.45358, (2, 3): -0.10746, (4, 2): 0.19101, (0, 3): -0.21973, (1, 0): -0.02363, (2, 5): 0, (2, 4): -0.10156, (4, 0): 0.08541, (1, 2): -0.1234, (3, 5): 0.11539, (0, 1): -0.10669, (4, 4): 0.57679, (3, 1): 0.06534, (1, 5): -0.58412, (2, 0): 0.0163, (0, 4): -0.32403, (4, 3): 0.3839, (2, 2): -0.03508, (3, 4): 0, (4, 1): 0.11392, (0, 2): -0.14994}\n",
      "\n",
      "Grid World V[s]如下(gamma值為1.0)：\n",
      "---------------------------\n",
      "-0.06|-0.11|-0.15|-0.22|-0.32|-0.45|\n",
      "---------------------------\n",
      "-0.02| 0.00|-0.12|-0.19|-0.30|-0.58|\n",
      "---------------------------\n",
      " 0.02| 0.02|-0.04|-0.11|-0.10| 0.00|\n",
      "---------------------------\n",
      " 0.06| 0.07| 0.07| 0.00| 0.00| 0.12|\n",
      "---------------------------\n",
      " 0.09| 0.11| 0.19| 0.38| 0.58| 0.35|\n"
     ]
    }
   ],
   "source": [
    "#initialize V, gamma, policy, grid\n",
    "v = {}\n",
    "gamma = 1.0\n",
    "small_enough = 1e-3\n",
    "for s in states:\n",
    "    v[s] = 0\n",
    "\n",
    "while True:\n",
    "    biggest_change = 0.0\n",
    "    for s in states:                     #s會得到(0, 1)、(1, 2)...等11種state\n",
    "        old_v = v[s]\n",
    "        new_v = 0\n",
    "        if s in grid.actions.keys():\n",
    "            for a in grid.actions[s]:   #uniform random\n",
    "                grid.set_state(s)            #i,j會變成s所在的格子\n",
    "                r = grid.move(a)             #i,j的數字會隨前進方向改變，r會收到回傳的reward值\n",
    "                new_v += (r + gamma * v[grid.current_state()]) / len(grid.actions[s])\n",
    "        v[s] = round(new_v,5)\n",
    "        biggest_change = max(biggest_change, np.abs(old_v - new_v))\n",
    "    if biggest_change < small_enough:\n",
    "        break\n",
    "\n",
    "print(v)\n",
    "print(\"\\nGrid World V[s]如下(gamma值為1.0)：\")\n",
    "print_values(v, grid)"
   ]
  },
  {
   "cell_type": "code",
   "execution_count": null,
   "metadata": {},
   "outputs": [],
   "source": []
  }
 ],
 "metadata": {
  "colab": {
   "name": "GridWorld.ipynb",
   "provenance": []
  },
  "kernelspec": {
   "display_name": "Python 3",
   "language": "python",
   "name": "python3"
  },
  "language_info": {
   "codemirror_mode": {
    "name": "ipython",
    "version": 3
   },
   "file_extension": ".py",
   "mimetype": "text/x-python",
   "name": "python",
   "nbconvert_exporter": "python",
   "pygments_lexer": "ipython3",
   "version": "3.7.3"
  }
 },
 "nbformat": 4,
 "nbformat_minor": 4
}
